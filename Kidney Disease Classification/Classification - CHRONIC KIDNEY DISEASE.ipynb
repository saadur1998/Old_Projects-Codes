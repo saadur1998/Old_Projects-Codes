{
 "cells": [
  {
   "cell_type": "markdown",
   "metadata": {},
   "source": [
    "# MACHINE LEARNNG PROJECT(CHRONIC KIDNEY DISEASE DATABASE)\n",
    "BY SAAD UR RAHMAN"
   ]
  },
  {
   "cell_type": "code",
   "execution_count": 195,
   "metadata": {},
   "outputs": [
    {
     "name": "stdout",
     "output_type": "stream",
     "text": [
      "   id   age    bp    sg   al   su     rbc      pc         pcc          ba  \\\n",
      "0   0  48.0  80.0  1.02  1.0  0.0     NaN  normal  notpresent  notpresent   \n",
      "1   1   7.0  50.0  1.02  4.0  0.0     NaN  normal  notpresent  notpresent   \n",
      "2   2  62.0  80.0  1.01  2.0  3.0  normal  normal  notpresent  notpresent   \n",
      "\n",
      "   ...   pcv      wc   rc  htn   dm  cad  appet  pe  ane classification  \n",
      "0  ...  44.0  7800.0  5.2  yes  yes   no   good  no   no            ckd  \n",
      "1  ...  38.0  6000.0  NaN   no   no   no   good  no   no            ckd  \n",
      "2  ...  31.0  7500.0  NaN   no  yes   no   poor  no  yes            ckd  \n",
      "\n",
      "[3 rows x 26 columns]\n"
     ]
    },
    {
     "data": {
      "text/plain": [
       "id                  0\n",
       "age                 9\n",
       "bp                 12\n",
       "sg                 47\n",
       "al                 46\n",
       "su                 49\n",
       "rbc               152\n",
       "pc                 65\n",
       "pcc                 4\n",
       "ba                  4\n",
       "bgr                44\n",
       "bu                 19\n",
       "sc                 17\n",
       "sod                87\n",
       "pot                88\n",
       "hemo               52\n",
       "pcv                71\n",
       "wc                106\n",
       "rc                131\n",
       "htn                 2\n",
       "dm                  2\n",
       "cad                 2\n",
       "appet               1\n",
       "pe                  1\n",
       "ane                 1\n",
       "classification      0\n",
       "dtype: int64"
      ]
     },
     "execution_count": 195,
     "metadata": {},
     "output_type": "execute_result"
    }
   ],
   "source": [
    "#imorting libraries and modules\n",
    "import pandas as pd\n",
    "import numpy as np\n",
    "import matplotlib.pyplot as plt\n",
    "import seaborn as sns\n",
    "\n",
    "#reading the dataset\n",
    "dt=pd.read_csv('ckd.csv')\n",
    "print(dt.head(3))\n",
    "\n",
    "#checking how many null values we have do deal with\n",
    "dt.isnull().sum()"
   ]
  },
  {
   "cell_type": "code",
   "execution_count": 179,
   "metadata": {},
   "outputs": [
    {
     "data": {
      "text/plain": [
       "id                0\n",
       "age               0\n",
       "bp                0\n",
       "sg                0\n",
       "al                0\n",
       "su                0\n",
       "rbc               0\n",
       "pc                0\n",
       "pcc               0\n",
       "ba                0\n",
       "bgr               0\n",
       "bu                0\n",
       "sc                0\n",
       "sod               0\n",
       "pot               0\n",
       "hemo              0\n",
       "pcv               0\n",
       "wc                0\n",
       "rc                0\n",
       "htn               0\n",
       "dm                0\n",
       "cad               0\n",
       "appet             0\n",
       "pe                0\n",
       "ane               0\n",
       "classification    0\n",
       "dtype: int64"
      ]
     },
     "execution_count": 179,
     "metadata": {},
     "output_type": "execute_result"
    }
   ],
   "source": [
    "#filling null values using simple imputer\n",
    "from sklearn.impute import SimpleImputer\n",
    "\n",
    "#mean strategy used for continuous variable\n",
    "imp1=SimpleImputer(strategy='mean',missing_values=np.nan)\n",
    "\n",
    "#most_frequest strategy used for categorical variables\n",
    "imp2=SimpleImputer(strategy='most_frequent',missing_values=np.nan)\n",
    "\n",
    "dt.iloc[:,1:6]=imp1.fit_transform(dt.iloc[:,1:6])\n",
    "dt.iloc[:,6:10]=imp2.fit_transform(dt.iloc[:,6:10])\n",
    "dt.iloc[:,10:19]=imp1.fit_transform(dt.iloc[:,10:19])\n",
    "dt.iloc[:,19:26]=imp2.fit_transform(dt.iloc[:,19:26])\n",
    "\n",
    "#checking if all the null values have been filled or not\n",
    "dt.isnull().sum()"
   ]
  },
  {
   "cell_type": "code",
   "execution_count": 180,
   "metadata": {},
   "outputs": [
    {
     "name": "stdout",
     "output_type": "stream",
     "text": [
      "   id   age    bp    sg   al   su  rbc  pc  pcc  ba  ...   pcv      wc  \\\n",
      "0   0  48.0  80.0  1.02  1.0  0.0    1   1    0   0  ...  44.0  7800.0   \n",
      "1   1   7.0  50.0  1.02  4.0  0.0    1   1    0   0  ...  38.0  6000.0   \n",
      "2   2  62.0  80.0  1.01  2.0  3.0    1   1    0   0  ...  31.0  7500.0   \n",
      "\n",
      "         rc  htn  dm  cad  appet  pe  ane  classification  \n",
      "0  5.200000    1   2    0      0   0    0             ckd  \n",
      "1  4.707435    0   1    0      0   0    0             ckd  \n",
      "2  4.707435    0   2    0      1   0    1             ckd  \n",
      "\n",
      "[3 rows x 26 columns]\n"
     ]
    }
   ],
   "source": [
    "#encoding non-numerical values\n",
    "#alloting each category a number\n",
    "from sklearn.preprocessing import LabelEncoder\n",
    "for i in [6,7,8,9,19,20,21,22,23,24]:\n",
    "    le=LabelEncoder()\n",
    "    dt.iloc[:,i]=le.fit_transform(dt.iloc[:,i])\n",
    "    \n",
    "#checking if all non-numerical values have been encoded or not\n",
    "print(dt.head(3))"
   ]
  },
  {
   "cell_type": "code",
   "execution_count": 176,
   "metadata": {},
   "outputs": [
    {
     "name": "stdout",
     "output_type": "stream",
     "text": [
      "(320, 24) (320,)\n"
     ]
    }
   ],
   "source": [
    "#splitting data in X and y and train and test data\n",
    "X=dt.drop('id',axis=1)\n",
    "X=X.drop('classification',axis=1)\n",
    "y=dt.classification.values\n",
    "from sklearn.model_selection import train_test_split\n",
    "X_train,X_test,y_train,y_test=train_test_split(X,y,test_size=0.20,random_state=0)\n",
    "print(X_train.shape,y_train.shape)"
   ]
  },
  {
   "cell_type": "code",
   "execution_count": 182,
   "metadata": {},
   "outputs": [
    {
     "name": "stdout",
     "output_type": "stream",
     "text": [
      "              precision    recall  f1-score   support\n",
      "\n",
      "         ckd       1.00      0.96      0.98        52\n",
      "      notckd       0.93      1.00      0.97        28\n",
      "\n",
      "    accuracy                           0.97        80\n",
      "   macro avg       0.97      0.98      0.97        80\n",
      "weighted avg       0.98      0.97      0.98        80\n",
      "\n"
     ]
    },
    {
     "data": {
      "image/png": "[encoded data removed]",
      "text/plain": [
       "<Figure size 432x288 with 2 Axes>"
      ]
     },
     "metadata": {
      "needs_background": "light"
     },
     "output_type": "display_data"
    }
   ],
   "source": [
    "#Training Model and testing it using Naive Bayes\n",
    "from sklearn.naive_bayes import GaussianNB\n",
    "c=GaussianNB()\n",
    "c.fit(X_train,y_train)\n",
    "y_pred=c.predict(X_test)\n",
    "\n",
    "#import further classes\n",
    "from sklearn.metrics import confusion_matrix,classification_report,accuracy_score\n",
    "from sklearn.metrics import precision_recall_fscore_support as score\n",
    "\n",
    "#printing classification report\n",
    "print(classification_report(y_test,y_pred))\n",
    "\n",
    "#storing f1 score in variable\n",
    "precision,recall,fscore,support=score(y_test,y_pred)\n",
    "fn1=fscore[0]\n",
    "fn2=fscore[1]\n",
    "\n",
    "#Drawing confusion matrix using Seaborn and Heatmap\n",
    "cm=pd.DataFrame(confusion_matrix(y_test,y_pred),columns=['PRED CKD','PRED NOTCKD'],index=['ACTUAL CKD','ACTUAL NOTCKD'])\n",
    "plt.title('CONFUSION MATRIX FOR NAIVE BAYES')\n",
    "sns.heatmap(cm,annot=True,fmt='d',cmap='viridis')\n",
    "plt.show()\n",
    "\n",
    "#storing accuracy in variables\n",
    "as1=accuracy_score(y_test,y_pred)*100"
   ]
  },
  {
   "cell_type": "code",
   "execution_count": 183,
   "metadata": {},
   "outputs": [
    {
     "name": "stdout",
     "output_type": "stream",
     "text": [
      "              precision    recall  f1-score   support\n",
      "\n",
      "         ckd       0.95      0.69      0.80        52\n",
      "      notckd       0.62      0.93      0.74        28\n",
      "\n",
      "    accuracy                           0.78        80\n",
      "   macro avg       0.78      0.81      0.77        80\n",
      "weighted avg       0.83      0.78      0.78        80\n",
      "\n"
     ]
    },
    {
     "data": {
      "image/png": "[encoded data removed]",
      "text/plain": [
       "<Figure size 432x288 with 2 Axes>"
      ]
     },
     "metadata": {
      "needs_background": "light"
     },
     "output_type": "display_data"
    }
   ],
   "source": [
    "#Training Model and testing it using KNN\n",
    "from sklearn.neighbors import KNeighborsClassifier\n",
    "KNC=KNeighborsClassifier(n_neighbors=3)\n",
    "KNC.fit(X_train,y_train)\n",
    "y_pred2=KNC.predict(X_test)\n",
    "\n",
    "#classification report\n",
    "print(classification_report(y_test,y_pred2))\n",
    "\n",
    "#f1 score\n",
    "precision,recall,fscore,support=score(y_test,y_pred2)\n",
    "fk1=fscore[0]\n",
    "fk2=fscore[1]\n",
    "\n",
    "#confusion matrix\n",
    "cm2=pd.DataFrame(confusion_matrix(y_test,y_pred2),columns=['PRED CKD','PRED NOTCKD'],index=['ACTUAL CKD','ACTUAL NOTCKD'])\n",
    "plt.title('CONFUSION MATRIX FOR KNN')\n",
    "sns.heatmap(cm2,annot=True,fmt='d',cmap='viridis')\n",
    "plt.show()\n",
    "\n",
    "#accuracy score\n",
    "as2=accuracy_score(y_test,y_pred2)*100"
   ]
  },
  {
   "cell_type": "code",
   "execution_count": 184,
   "metadata": {},
   "outputs": [
    {
     "name": "stdout",
     "output_type": "stream",
     "text": [
      "              precision    recall  f1-score   support\n",
      "\n",
      "         ckd       1.00      1.00      1.00        52\n",
      "      notckd       1.00      1.00      1.00        28\n",
      "\n",
      "    accuracy                           1.00        80\n",
      "   macro avg       1.00      1.00      1.00        80\n",
      "weighted avg       1.00      1.00      1.00        80\n",
      "\n"
     ]
    },
    {
     "data": {
      "image/png": "[encoded data removed]",
      "text/plain": [
       "<Figure size 432x288 with 2 Axes>"
      ]
     },
     "metadata": {
      "needs_background": "light"
     },
     "output_type": "display_data"
    }
   ],
   "source": [
    "#Training Model and testing it using Random Forest\n",
    "from sklearn.ensemble import RandomForestClassifier\n",
    "RFC=RandomForestClassifier(random_state=0)\n",
    "RFC.fit(X_train,y_train)\n",
    "y_pred3=RFC.predict(X_test)\n",
    "\n",
    "#classification report\n",
    "print(classification_report(y_test,y_pred3))\n",
    "\n",
    "#f1 score\n",
    "precision,recall,fscore,support=score(y_test,y_pred3)\n",
    "fr1=fscore[0]\n",
    "fr2=fscore[1]\n",
    "\n",
    "#confusion matrix\n",
    "cm3=pd.DataFrame(confusion_matrix(y_test,y_pred3),columns=['PRED CKD','PRED NOTCKD'],index=['ACTUAL CKD','ACTUAL NOTCKD'])\n",
    "plt.title('CONFUSION MATRIX FOR RANDOM FOREST')\n",
    "sns.heatmap(cm3,annot=True,fmt='d',cmap='viridis')\n",
    "plt.show()\n",
    "\n",
    "#accuracy score\n",
    "as3=accuracy_score(y_test,y_pred3)*100"
   ]
  },
  {
   "cell_type": "code",
   "execution_count": 185,
   "metadata": {},
   "outputs": [
    {
     "name": "stdout",
     "output_type": "stream",
     "text": [
      "              precision    recall  f1-score   support\n",
      "\n",
      "         ckd       1.00      0.96      0.98        52\n",
      "      notckd       0.93      1.00      0.97        28\n",
      "\n",
      "    accuracy                           0.97        80\n",
      "   macro avg       0.97      0.98      0.97        80\n",
      "weighted avg       0.98      0.97      0.98        80\n",
      "\n"
     ]
    },
    {
     "data": {
      "image/png": "[encoded data removed]",
      "text/plain": [
       "<Figure size 432x288 with 2 Axes>"
      ]
     },
     "metadata": {
      "needs_background": "light"
     },
     "output_type": "display_data"
    }
   ],
   "source": [
    "#Training Model and testing it using SVC\n",
    "from sklearn.svm import SVC\n",
    "SVC=SVC(kernel='linear')\n",
    "SVC.fit(X_train,y_train)\n",
    "y_pred4=SVC.predict(X_test)\n",
    "\n",
    "#classification report\n",
    "print(classification_report(y_test,y_pred4))\n",
    "\n",
    "#f1 score\n",
    "precision,recall,fscore,support=score(y_test,y_pred4)\n",
    "fs1=fscore[0]\n",
    "fs2=fscore[1]\n",
    "\n",
    "#confusion matrix\n",
    "cm4=pd.DataFrame(confusion_matrix(y_test,y_pred4),columns=['PRED CKD','PRED NOTCKD'],index=['ACTUAL CKD','ACTUAL NOTCKD'])\n",
    "plt.title('CONFUSION MATRIX FOR SVC')\n",
    "sns.heatmap(cm4,annot=True,fmt='d',cmap='viridis')\n",
    "plt.show()\n",
    "\n",
    "#accuracy score\n",
    "as4=accuracy_score(y_test,y_pred4)*100"
   ]
  },
  {
   "cell_type": "code",
   "execution_count": 169,
   "metadata": {},
   "outputs": [
    {
     "data": {
      "image/png": "[encoded data removed]",
      "text/plain": [
       "<Figure size 720x432 with 1 Axes>"
      ]
     },
     "metadata": {},
     "output_type": "display_data"
    }
   ],
   "source": [
    "#COMPARING CKD-F1 SCORE BY PLOTTING BAR GRAPH\n",
    "plt.figure(figsize=(10,6),facecolor='yellow')\n",
    "plt.title(\"CKD F1 SCORE COMPARISON\")\n",
    "x1=np.array(['NaiveBayes','KNN','RandomForest','SVC'])#the bar lables\n",
    "y1=np.array([fn1,fk1,fr1,fs1])#the bar values\n",
    "c=['red','green','orange','blue']\n",
    "plt.bar(x1,y1,color=c)\n",
    "for i,v in enumerate(y1):\n",
    "    plt.text(i-0.1,v+0.01,str(v),color='blue')\n",
    "plt.show()\n",
    "#RandomForest has the best CKD-F1 score"
   ]
  },
  {
   "cell_type": "code",
   "execution_count": 190,
   "metadata": {},
   "outputs": [
    {
     "data": {
      "image/png": "[encoded data removed]",
      "text/plain": [
       "<Figure size 720x432 with 1 Axes>"
      ]
     },
     "metadata": {},
     "output_type": "display_data"
    }
   ],
   "source": [
    "#COMPARING NOTCKD-F1 SCORE BY PLOTTING BAR GRAPH\n",
    "plt.figure(figsize=(10,6),facecolor='lime')\n",
    "plt.title(\"NOTCKD F1 SCORE COMPARISON\")\n",
    "x1=np.array(['NaiveBayes','KNN','RandomForest','SVC'])#the bar lables\n",
    "y1=np.array([fn2,fk2,fr2,fs2])#the bar values\n",
    "c=['red','green','orange','blue']\n",
    "plt.bar(x1,y1,color=c)\n",
    "for i,v in enumerate(y1):\n",
    "    plt.text(i-0.1,v+0.01,str(v),color='blue')\n",
    "plt.show()\n",
    "#RandomForest has the best NOTCKD-F1 score"
   ]
  },
  {
   "cell_type": "code",
   "execution_count": 189,
   "metadata": {},
   "outputs": [
    {
     "data": {
      "image/png": "[encoded data removed]",
      "text/plain": [
       "<Figure size 720x432 with 1 Axes>"
      ]
     },
     "metadata": {},
     "output_type": "display_data"
    }
   ],
   "source": [
    "#COMPARING ACCURACY SCORE BY PLOTTING BAR GRAPH\n",
    "import matplotlib.pyplot as plt\n",
    "plt.figure(figsize=(10,6),facecolor='cyan')\n",
    "plt.title(\"ACCURACY SCORE COMPARISON\")\n",
    "x1=np.array(['NaiveBayes','KNN','RandomForest','SVC'])#the bar lables\n",
    "y1=np.array([as1,as2,as3,as4])#the bar values\n",
    "c=['red','green','orange','blue']\n",
    "plt.bar(x1,y1,color=c)\n",
    "for i,v in enumerate(y1):\n",
    "    plt.text(i-0.1,v+1,str(v),color='blue')\n",
    "plt.show()\n",
    "#RandomForest has the best accuracy score"
   ]
  },
  {
   "cell_type": "code",
   "execution_count": 191,
   "metadata": {},
   "outputs": [],
   "source": [
    "#After comparing the above results we can conclude that\n",
    "#model trained by using Random Forest Classifier gives us the most accurate result"
   ]
  }
 ],
 "metadata": {
  "kernelspec": {
   "display_name": "Python 3",
   "language": "python",
   "name": "python3"
  },
  "language_info": {
   "codemirror_mode": {
    "name": "ipython",
    "version": 3
   },
   "file_extension": ".py",
   "mimetype": "text/x-python",
   "name": "python",
   "nbconvert_exporter": "python",
   "pygments_lexer": "ipython3",
   "version": "3.8.5"
  }
 },
 "nbformat": 4,
 "nbformat_minor": 5
}
